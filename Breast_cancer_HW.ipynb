{
 "cells": [
  {
   "cell_type": "code",
   "execution_count": null,
   "metadata": {},
   "outputs": [
    {
     "name": "stdout",
     "output_type": "stream",
     "text": [
      "Loaded CSV from ~/Desktop/breast-cancer.csv\n"
     ]
    }
   ],
   "source": [
    "import pandas as pd\n",
    "from sklearn.model_selection import train_test_split\n",
    "from sklearn.linear_model import LogisticRegression\n",
    "from sklearn.metrics import confusion_matrix, precision_score, recall_score, f1_score\n",
    "\n",
    "#Import and read dataset\n",
    "csv_path = '~/Desktop/breast-cancer.csv'\n",
    "df = pd.read_csv(csv_path)\n",
    "print(f\"Loaded CSV from {csv_path}\")"
   ]
  },
  {
   "cell_type": "code",
   "execution_count": null,
   "metadata": {},
   "outputs": [
    {
     "name": "stdout",
     "output_type": "stream",
     "text": [
      "First 12 rows:\n",
      "          ea diagnosis  radius_mean  texture_mean  perimeter_mean  area_mean  \\\n",
      "0     842302         M        17.99         10.38          122.80     1001.0   \n",
      "1     842517         M        20.57         17.77          132.90     1326.0   \n",
      "2   84300903         M        19.69         21.25          130.00     1203.0   \n",
      "3   84348301         M        11.42         20.38           77.58      386.1   \n",
      "4   84358402         M        20.29         14.34          135.10     1297.0   \n",
      "5     843786         M        12.45         15.70           82.57      477.1   \n",
      "6     844359         M        18.25         19.98          119.60     1040.0   \n",
      "7   84458202         M        13.71         20.83           90.20      577.9   \n",
      "8     844981         M        13.00         21.82           87.50      519.8   \n",
      "9   84501001         M        12.46         24.04           83.97      475.9   \n",
      "10    845636         M        16.02         23.24          102.70      797.8   \n",
      "11  84610002         M        15.78         17.89          103.60      781.0   \n",
      "\n",
      "    smoothness_mean  compactness_mean  concavity_mean  concave points_mean  \\\n",
      "0           0.11840           0.27760         0.30010              0.14710   \n",
      "1           0.08474           0.07864         0.08690              0.07017   \n",
      "2           0.10960           0.15990         0.19740              0.12790   \n",
      "3           0.14250           0.28390         0.24140              0.10520   \n",
      "4           0.10030           0.13280         0.19800              0.10430   \n",
      "5           0.12780           0.17000         0.15780              0.08089   \n",
      "6           0.09463           0.10900         0.11270              0.07400   \n",
      "7           0.11890           0.16450         0.09366              0.05985   \n",
      "8           0.12730           0.19320         0.18590              0.09353   \n",
      "9           0.11860           0.23960         0.22730              0.08543   \n",
      "10          0.08206           0.06669         0.03299              0.03323   \n",
      "11          0.09710           0.12920         0.09954              0.06606   \n",
      "\n",
      "    ...  radius_worst  texture_worst  perimeter_worst  area_worst  \\\n",
      "0   ...         25.38          17.33           184.60      2019.0   \n",
      "1   ...         24.99          23.41           158.80      1956.0   \n",
      "2   ...         23.57          25.53           152.50      1709.0   \n",
      "3   ...         14.91          26.50            98.87       567.7   \n",
      "4   ...         22.54          16.67           152.20      1575.0   \n",
      "5   ...         15.47          23.75           103.40       741.6   \n",
      "6   ...         22.88          27.66           153.20      1606.0   \n",
      "7   ...         17.06          28.14           110.60       897.0   \n",
      "8   ...         15.49          30.73           106.20       739.3   \n",
      "9   ...         15.09          40.68            97.65       711.4   \n",
      "10  ...         19.19          33.88           123.80      1150.0   \n",
      "11  ...         20.42          27.28           136.50      1299.0   \n",
      "\n",
      "    smoothness_worst  compactness_worst  concavity_worst  \\\n",
      "0             0.1622             0.6656           0.7119   \n",
      "1             0.1238             0.1866           0.2416   \n",
      "2             0.1444             0.4245           0.4504   \n",
      "3             0.2098             0.8663           0.6869   \n",
      "4             0.1374             0.2050           0.4000   \n",
      "5             0.1791             0.5249           0.5355   \n",
      "6             0.1442             0.2576           0.3784   \n",
      "7             0.1654             0.3682           0.2678   \n",
      "8             0.1703             0.5401           0.5390   \n",
      "9             0.1853             1.0580           1.1050   \n",
      "10            0.1181             0.1551           0.1459   \n",
      "11            0.1396             0.5609           0.3965   \n",
      "\n",
      "    concave points_worst  symmetry_worst  fractal_dimension_worst  \n",
      "0                0.26540          0.4601                  0.11890  \n",
      "1                0.18600          0.2750                  0.08902  \n",
      "2                0.24300          0.3613                  0.08758  \n",
      "3                0.25750          0.6638                  0.17300  \n",
      "4                0.16250          0.2364                  0.07678  \n",
      "5                0.17410          0.3985                  0.12440  \n",
      "6                0.19320          0.3063                  0.08368  \n",
      "7                0.15560          0.3196                  0.11510  \n",
      "8                0.20600          0.4378                  0.10720  \n",
      "9                0.22100          0.4366                  0.20750  \n",
      "10               0.09975          0.2948                  0.08452  \n",
      "11               0.18100          0.3792                  0.10480  \n",
      "\n",
      "[12 rows x 32 columns]\n",
      "\n",
      "Last 5 rows:\n",
      "         ea diagnosis  radius_mean  texture_mean  perimeter_mean  area_mean  \\\n",
      "564  926424         M        21.56         22.39          142.00     1479.0   \n",
      "565  926682         M        20.13         28.25          131.20     1261.0   \n",
      "566  926954         M        16.60         28.08          108.30      858.1   \n",
      "567  927241         M        20.60         29.33          140.10     1265.0   \n",
      "568   92751         B         7.76         24.54           47.92      181.0   \n",
      "\n",
      "     smoothness_mean  compactness_mean  concavity_mean  concave points_mean  \\\n",
      "564          0.11100           0.11590         0.24390              0.13890   \n",
      "565          0.09780           0.10340         0.14400              0.09791   \n",
      "566          0.08455           0.10230         0.09251              0.05302   \n",
      "567          0.11780           0.27700         0.35140              0.15200   \n",
      "568          0.05263           0.04362         0.00000              0.00000   \n",
      "\n",
      "     ...  radius_worst  texture_worst  perimeter_worst  area_worst  \\\n",
      "564  ...        25.450          26.40           166.10      2027.0   \n",
      "565  ...        23.690          38.25           155.00      1731.0   \n",
      "566  ...        18.980          34.12           126.70      1124.0   \n",
      "567  ...        25.740          39.42           184.60      1821.0   \n",
      "568  ...         9.456          30.37            59.16       268.6   \n",
      "\n",
      "     smoothness_worst  compactness_worst  concavity_worst  \\\n",
      "564           0.14100            0.21130           0.4107   \n",
      "565           0.11660            0.19220           0.3215   \n",
      "566           0.11390            0.30940           0.3403   \n",
      "567           0.16500            0.86810           0.9387   \n",
      "568           0.08996            0.06444           0.0000   \n",
      "\n",
      "     concave points_worst  symmetry_worst  fractal_dimension_worst  \n",
      "564                0.2216          0.2060                  0.07115  \n",
      "565                0.1628          0.2572                  0.06637  \n",
      "566                0.1418          0.2218                  0.07820  \n",
      "567                0.2650          0.4087                  0.12400  \n",
      "568                0.0000          0.2871                  0.07039  \n",
      "\n",
      "[5 rows x 32 columns]\n",
      "\n",
      "Dataset shape: 569 rows, 32 columns\n"
     ]
    }
   ],
   "source": [
    "#Exploratory analysis\n",
    "print(\"First 12 rows:\")\n",
    "print(df.head(12))\n",
    "\n",
    "print(\"\\nLast 5 rows:\")\n",
    "print(df.tail(5))\n",
    "\n",
    "print(f\"\\nDataset shape: {df.shape[0]} rows, {df.shape[1]} columns\")"
   ]
  },
  {
   "cell_type": "code",
   "execution_count": null,
   "metadata": {},
   "outputs": [
    {
     "name": "stdout",
     "output_type": "stream",
     "text": [
      "\n",
      "Missing values per column:\n",
      "ea                         0\n",
      "diagnosis                  0\n",
      "radius_mean                0\n",
      "texture_mean               0\n",
      "perimeter_mean             0\n",
      "area_mean                  0\n",
      "smoothness_mean            0\n",
      "compactness_mean           0\n",
      "concavity_mean             0\n",
      "concave points_mean        0\n",
      "symmetry_mean              0\n",
      "fractal_dimension_mean     0\n",
      "radius_se                  0\n",
      "texture_se                 0\n",
      "perimeter_se               0\n",
      "area_se                    0\n",
      "smoothness_se              0\n",
      "compactness_se             0\n",
      "concavity_se               0\n",
      "concave points_se          0\n",
      "symmetry_se                0\n",
      "fractal_dimension_se       0\n",
      "radius_worst               0\n",
      "texture_worst              0\n",
      "perimeter_worst            0\n",
      "area_worst                 0\n",
      "smoothness_worst           0\n",
      "compactness_worst          0\n",
      "concavity_worst            0\n",
      "concave points_worst       0\n",
      "symmetry_worst             0\n",
      "fractal_dimension_worst    0\n",
      "dtype: int64\n"
     ]
    }
   ],
   "source": [
    "#Check for missing values\n",
    "print(\"\\nMissing values per column:\")\n",
    "print(df.isnull().sum())"
   ]
  },
  {
   "cell_type": "code",
   "execution_count": null,
   "metadata": {},
   "outputs": [],
   "source": [
    "#Prepare data for model\n",
    "X = df.drop(columns=['id', 'diagnosis'], errors='ignore')\n",
    "Y = df['diagnosis'].map({'B': 0, 'M': 1})"
   ]
  },
  {
   "cell_type": "code",
   "execution_count": null,
   "metadata": {},
   "outputs": [],
   "source": [
    "#Split into training and testing sets\n",
    "X_train, X_test, Y_train, Y_test = train_test_split(\n",
    "    X, Y, test_size=0.25, random_state=42\n",
    ")"
   ]
  },
  {
   "cell_type": "code",
   "execution_count": null,
   "metadata": {},
   "outputs": [
    {
     "name": "stdout",
     "output_type": "stream",
     "text": [
      "Model training completed.\n",
      "\n"
     ]
    }
   ],
   "source": [
    "#Train Logistic Regression model\n",
    "model = LogisticRegression(max_iter=10000)\n",
    "model.fit(X_train, Y_train)\n",
    "print(\"Model training completed.\\n\")"
   ]
  },
  {
   "cell_type": "code",
   "execution_count": null,
   "metadata": {},
   "outputs": [
    {
     "name": "stdout",
     "output_type": "stream",
     "text": [
      "First 10 Actual vs Predicted:\n",
      "Actual: 0, Predicted: 0\n",
      "Actual: 1, Predicted: 1\n",
      "Actual: 1, Predicted: 1\n",
      "Actual: 0, Predicted: 0\n",
      "Actual: 0, Predicted: 0\n",
      "Actual: 1, Predicted: 1\n",
      "Actual: 1, Predicted: 1\n",
      "Actual: 1, Predicted: 1\n",
      "Actual: 0, Predicted: 0\n",
      "Actual: 0, Predicted: 0\n"
     ]
    }
   ],
   "source": [
    "#Predictions and evaluation\n",
    "y_pred = model.predict(X_test)\n",
    "print(\"First 10 Actual vs Predicted:\")\n",
    "for actual, pred in zip(Y_test.values[:10], y_pred[:10]):\n",
    "    print(f\"Actual: {actual}, Predicted: {pred}\")"
   ]
  },
  {
   "cell_type": "code",
   "execution_count": 12,
   "metadata": {},
   "outputs": [
    {
     "name": "stdout",
     "output_type": "stream",
     "text": [
      "\n",
      "Confusion Matrix:\n",
      "[[87  2]\n",
      " [ 5 49]]\n"
     ]
    }
   ],
   "source": [
    "#Confusion Matrix\n",
    "cm = confusion_matrix(Y_test, y_pred)\n",
    "print(\"\\nConfusion Matrix:\")\n",
    "print(cm)"
   ]
  },
  {
   "cell_type": "code",
   "execution_count": null,
   "metadata": {},
   "outputs": [
    {
     "name": "stdout",
     "output_type": "stream",
     "text": [
      "\n",
      "Precision: 0.96\n",
      "Recall:    0.91\n",
      "F1 Score:  0.93\n",
      "\n"
     ]
    }
   ],
   "source": [
    "#Precision, Recall, F1 Score\n",
    "print(f\"\\nPrecision: {precision_score(Y_test, y_pred):.2f}\")\n",
    "print(f\"Recall:    {recall_score(Y_test, y_pred):.2f}\")\n",
    "print(f\"F1 Score:  {f1_score(Y_test, y_pred):.2f}\\n\")"
   ]
  },
  {
   "cell_type": "code",
   "execution_count": 14,
   "metadata": {},
   "outputs": [
    {
     "name": "stdout",
     "output_type": "stream",
     "text": [
      "Learnings and Conclusions:\n",
      "- Logistic Regression is suitable for binary classification tasks.\n",
      "- Data preprocessing and handling of missing values are crucial.\n",
      "- Model evaluation metrics such as precision, recall, and F1 score help assess performance beyond accuracy.\n",
      "- Confusion matrix provides insight into types of classification errors.\n"
     ]
    }
   ],
   "source": [
    "#Conclusions\n",
    "learnings = [\n",
    "    \"Logistic Regression is suitable for binary classification tasks.\",\n",
    "    \"Data preprocessing and handling of missing values are crucial.\",\n",
    "    \"Model evaluation metrics such as precision, recall, and F1 score help assess performance beyond accuracy.\",\n",
    "    \"Confusion matrix provides insight into types of classification errors.\"\n",
    "]\n",
    "print(\"Learnings and Conclusions:\")\n",
    "for point in learnings:\n",
    "    print(f\"- {point}\")"
   ]
  },
  {
   "cell_type": "code",
   "execution_count": 15,
   "metadata": {},
   "outputs": [
    {
     "name": "stdout",
     "output_type": "stream",
     "text": [
      "\n",
      "11. Quick sanity test on first 5 test samples:\n",
      "Actual labels   : [0 1 1 0 0]\n",
      "Predicted labels: [0 1 1 0 0]\n"
     ]
    }
   ],
   "source": [
    "#Quick sanity test on a small subset\n",
    "print(\"\\n11. Quick sanity test on first 5 test samples:\")\n",
    "sample_X = X_test.iloc[:5]\n",
    "sample_y = Y_test.iloc[:5].values\n",
    "sample_pred = model.predict(sample_X)\n",
    "print(f\"Actual labels   : {sample_y}\")\n",
    "print(f\"Predicted labels: {sample_pred}\")"
   ]
  }
 ],
 "metadata": {
  "kernelspec": {
   "display_name": "Python 3",
   "language": "python",
   "name": "python3"
  },
  "language_info": {
   "codemirror_mode": {
    "name": "ipython",
    "version": 3
   },
   "file_extension": ".py",
   "mimetype": "text/x-python",
   "name": "python",
   "nbconvert_exporter": "python",
   "pygments_lexer": "ipython3",
   "version": "3.12.0"
  }
 },
 "nbformat": 4,
 "nbformat_minor": 2
}
